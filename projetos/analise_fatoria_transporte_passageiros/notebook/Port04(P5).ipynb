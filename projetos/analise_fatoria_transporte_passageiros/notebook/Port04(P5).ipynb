{
  "nbformat": 4,
  "nbformat_minor": 0,
  "metadata": {
    "colab": {
      "provenance": [],
      "collapsed_sections": [
        "lYkJfKo7cxN1"
      ]
    },
    "kernelspec": {
      "name": "python3",
      "display_name": "Python 3"
    },
    "language_info": {
      "name": "python"
    }
  },
  "cells": [
    {
      "cell_type": "markdown",
      "source": [
        "## **Bloco 1: Definição do Projeto e Configuração Inicial**"
      ],
      "metadata": {
        "id": "N-d5bgdPZfbF"
      }
    },
    {
      "cell_type": "markdown",
      "source": [
        "#### **Definição do Problema de Negócio**\n",
        "O setor de transporte rodoviário de passageiros é altamente competitivo e a satisfação do cliente é um diferencial crucial. Para otimizar os serviços e as estratégias de marketing, é fundamental compreender quais são os fatores subjacentes que realmente influenciam a experiência e o comportamento dos passageiros.\n",
        "Este projeto tem como objetivo aplicar a Análise Fatorial para identificar e interpretar esses fatores latentes. Ao desvendar as dimensões principais que moldam a percepção e as decisões dos passageiros, as empresas de transporte poderão direcionar seus investimentos e esforços de forma mais eficaz, aprimorando a qualidade do serviço e a satisfação do cliente."
      ],
      "metadata": {
        "id": "ZbcVaS0EZp5g"
      }
    },
    {
      "cell_type": "code",
      "execution_count": 1,
      "metadata": {
        "colab": {
          "base_uri": "https://localhost:8080/"
        },
        "id": "GrGeMjRUZT6b",
        "outputId": "3d90c0ca-70ca-4495-b5ad-95427b41d84d"
      },
      "outputs": [
        {
          "output_type": "stream",
          "name": "stdout",
          "text": [
            "\u001b[2K   \u001b[90m━━━━━━━━━━━━━━━━━━━━━━━━━━━━━━━━━━━━━━━━\u001b[0m \u001b[32m1.6/1.6 MB\u001b[0m \u001b[31m28.8 MB/s\u001b[0m eta \u001b[36m0:00:00\u001b[0m\n",
            "\u001b[2K     \u001b[90m━━━━━━━━━━━━━━━━━━━━━━━━━━━━━━━━━━━━━━━━\u001b[0m \u001b[32m42.8/42.8 kB\u001b[0m \u001b[31m3.0 MB/s\u001b[0m eta \u001b[36m0:00:00\u001b[0m\n",
            "\u001b[?25h  Installing build dependencies ... \u001b[?25l\u001b[?25hdone\n",
            "  Getting requirements to build wheel ... \u001b[?25l\u001b[?25hdone\n",
            "  Preparing metadata (pyproject.toml) ... \u001b[?25l\u001b[?25hdone\n",
            "  Building wheel for factor_analyzer (pyproject.toml) ... \u001b[?25l\u001b[?25hdone\n"
          ]
        }
      ],
      "source": [
        "# Instala o pacote watermark.\n",
        "!pip install -q -U watermark\n",
        "\n",
        "# Instala o pacote factor_analyzer, para a Análise Fatorial.\n",
        "!pip install -q factor_analyzer"
      ]
    },
    {
      "cell_type": "code",
      "source": [
        "# Imports\n",
        "import pandas as pd\n",
        "import numpy as np\n",
        "import factor_analyzer\n",
        "from factor_analyzer import FactorAnalyzer\n",
        "from factor_analyzer.factor_analyzer import calculate_bartlett_sphericity\n",
        "from factor_analyzer.factor_analyzer import calculate_kmo\n",
        "import matplotlib.pyplot as plt\n",
        "import random # Para a geração de dados sintéticos\n",
        "\n",
        "# Configuração do watermark para registrar as versões dos pacotes\n",
        "%reload_ext watermark\n",
        "%watermark -a \"Daniel Reis - Portifólio Pessoal\" --iversions"
      ],
      "metadata": {
        "colab": {
          "base_uri": "https://localhost:8080/"
        },
        "id": "CWEMmK3BaEdk",
        "outputId": "58dfbde4-8d29-427a-964b-01e9e9701f07"
      },
      "execution_count": 2,
      "outputs": [
        {
          "output_type": "stream",
          "name": "stdout",
          "text": [
            "Author: Daniel Reis - Portifólio Pessoal\n",
            "\n",
            "matplotlib     : 3.10.0\n",
            "factor_analyzer: 0.5.1\n",
            "numpy          : 2.0.2\n",
            "pandas         : 2.2.2\n",
            "\n"
          ]
        }
      ]
    },
    {
      "cell_type": "markdown",
      "source": [
        "Neste bloco inaugural, estabelecemos a fundação para o nosso projeto de Análise Fatorial, focando na identificação de fatores latentes que influenciam a satisfação e o comportamento dos passageiros no transporte rodoviário. A clareza na definição do **problema de negócio** é crucial, pois direciona todas as etapas subsequentes da análise, garantindo que os insights gerados sejam relevantes e acionáveis para as empresas do setor.\n",
        "\n",
        "A **configuração do ambiente** com a instalação e importação das bibliotecas essenciais foi um passo fundamental. A inclusão de `factor_analyzer` nos capacita com as ferramentas estatísticas necessárias para a Análise Fatorial, enquanto `watermark` assegura a **reprodutibilidade** do nosso trabalho, registrando as versões exatas das dependências. Esta prática é um pilar da ciência de dados profissional, permitindo que outros pesquisadores ou colegas de equipe validem e expandam sobre os resultados obtidos. A utilização de comandos `!pip` no Jupyter Notebook e o argumento `-q` para instalações silenciosas demonstram um cuidado com a organização e a legibilidade do notebook, características valorizadas em um portfólio técnico.\n",
        "\n",
        "Com o problema bem definido e o ambiente preparado, estamos prontos para avançar para a próxima fase: a criação e exploração dos dados sintéticos que servirão de base para nossa análise."
      ],
      "metadata": {
        "id": "kFafDU8Ab7AH"
      }
    },
    {
      "cell_type": "markdown",
      "source": [
        "## **Bloco 2: Geração de Dados Sintéticos**"
      ],
      "metadata": {
        "id": "lYkJfKo7cxN1"
      }
    },
    {
      "cell_type": "markdown",
      "source": [
        "Nesta etapa crucial do projeto, em vez de utilizar um conjunto de dados real, optaremos pela **geração de dados sintéticos**. Essa abordagem oferece diversas vantagens para fins de aprendizado e demonstração em um portfólio. Ela nos permite controlar a estrutura subjacente dos dados, simulando relações e fatores latentes que esperamos que a Análise Fatorial seja capaz de identificar. Isso é particularmente útil para validar nossa compreensão da técnica e para criar um cenário onde os resultados são interpretáveis e didáticos.\n",
        "\n",
        "Para o nosso contexto de transporte rodoviário de passageiros, vamos simular um conjunto de dados com 500 \"passageiros\", cada um com características e avaliações que refletem possíveis dimensões de satisfação e comportamento. As variáveis serão geradas de forma a ter correlações com dois fatores latentes hipotéticos: um relacionado à **Qualidade e Conforto da Viagem** e outro à **Eficiência e Frequência do Serviço**."
      ],
      "metadata": {
        "id": "D1EBuDXSe26H"
      }
    },
    {
      "cell_type": "markdown",
      "source": [
        "**Variáveis Simuladas**:\n",
        "\n",
        "- **`frequencia_viagens_mes`**: Número de viagens realizadas por mês.\n",
        "\n",
        "- **`valor_medio_passagem`**: Valor médio gasto por passagem.z\n",
        "\n",
        "- **`distancia_media_viagem_km`**: Distância média percorrida por viagem em quilômetros.\n",
        "\n",
        "- **`avaliacao_conforto_onibus`**: Avaliação do conforto do ônibus (escala de 1 a 5).\n",
        "\n",
        "- **`avaliacao_pontualidade`**: Avaliação da pontualidade do serviço (escala de 1 a 5).\n",
        "\n",
        "- **`avaliacao_atendimento_motorista`**: Avaliação do atendimento do motorista (escala de 1 a 5).\n",
        "\n",
        "- **`avaliacao_limpeza_onibus`**: Avaliação da limpeza do ônibus (escala de 1 a 5).\n",
        "\n",
        "- **`disponibilidade_wifi`**: Avaliação da disponibilidade e qualidade do Wi-Fi (escala de 1 a 5).\n",
        "\n",
        "- **`tempo_espera_embarque_min`**: Tempo médio de espera para embarque em minutos."
      ],
      "metadata": {
        "id": "CsxmKbAtdpSw"
      }
    },
    {
      "cell_type": "code",
      "source": [
        "# Definindo seeds para reprodutibilidade\n",
        "random.seed(42)\n",
        "np.random.seed(42)\n",
        "\n",
        "n_samples = 500 # Número de passageiros a serem simulados\n",
        "\n",
        "# --- Criação dos Fatores Latentes (não observáveis diretamente) ---\n",
        "# Fator 1: Qualidade e Conforto (valores mais altos = melhor qualidade/conforto percebido)\n",
        "# Simulado como uma distribuição normal padrão\n",
        "factor_qualidade_conforto = np.random.normal(loc=0, scale=1, size=n_samples)\n",
        "\n",
        "# Fator 2: Eficiência e Frequência do Serviço (valores mais altos = serviço mais eficiente/frequente)\n",
        "# Simulado como uma distribuição normal padrão\n",
        "factor_eficiencia_frequencia = np.random.normal(loc=0, scale=1, size=n_samples)\n",
        "\n",
        "# --- Geração das Variáveis Observáveis com base nos Fatores e Ruído ---\n",
        "data = {}\n",
        "\n",
        "# Variáveis relacionadas principalmente ao Fator 1 (Qualidade e Conforto)\n",
        "# Avaliações de 1 a 5, com um componente do fator e ruído aleatório\n",
        "data['avaliacao_conforto_onibus'] = np.clip(np.round(3 + 1.5 * factor_qualidade_conforto + np.random.normal(0, 0.5, n_samples)), 1, 5).astype(int)\n",
        "data['avaliacao_limpeza_onibus'] = np.clip(np.round(3.5 + 1.2 * factor_qualidade_conforto + np.random.normal(0, 0.5, n_samples)), 1, 5).astype(int)\n",
        "data['disponibilidade_wifi'] = np.clip(np.round(2.5 + 1.0 * factor_qualidade_conforto + np.random.normal(0, 0.5, n_samples)), 1, 5).astype(int)\n",
        "# Valor médio da passagem: tende a ser maior para maior qualidade/conforto\n",
        "data['valor_medio_passagem'] = np.clip(np.round(100 + 30 * factor_qualidade_conforto + np.random.normal(0, 10, n_samples)), 50, 250) # Valor em R$\n",
        "\n",
        "# Variáveis relacionadas principalmente ao Fator 2 (Eficiência e Frequência)\n",
        "# Avaliações de 1 a 5, com um componente do fator e ruído aleatório\n",
        "data['avaliacao_pontualidade'] = np.clip(np.round(4 + 1.0 * factor_eficiencia_frequencia + np.random.normal(0, 0.5, n_samples)), 1, 5).astype(int)\n",
        "data['avaliacao_atendimento_motorista'] = np.clip(np.round(3.5 + 0.8 * factor_eficiencia_frequencia + np.random.normal(0, 0.5, n_samples)), 1, 5).astype(int)\n",
        "# Tempo de espera: menor valor é melhor, então correlação negativa com o fator de eficiência\n",
        "data['tempo_espera_embarque_min'] = np.clip(np.round(15 - 5 * factor_eficiencia_frequencia + np.random.normal(0, 2, n_samples)), 0, 30).astype(int)\n",
        "# Frequência de viagens: tende a ser maior com serviço mais eficiente/frequente\n",
        "data['frequencia_viagens_mes'] = np.clip(np.round(2 + 1.0 * factor_eficiencia_frequencia + np.random.normal(0, 0.5, n_samples)), 0, 10).astype(int)\n",
        "# Distância média: pode ter alguma relação com a frequência/necessidade de viajar\n",
        "data['distancia_media_viagem_km'] = np.clip(np.round(200 + 50 * factor_eficiencia_frequencia + np.random.normal(0, 20, n_samples)), 50, 500) # Distância em km\n",
        "\n",
        "# Criando o DataFrame\n",
        "df_passageiros = pd.DataFrame(data)\n",
        "\n",
        "# Salvando o dataset sintético em um arquivo CSV para uso posterior e consistência\n",
        "df_passageiros.to_csv('dataset_passageiros.csv', index=False)\n",
        "\n",
        "# Exibindo as primeiras linhas do DataFrame\n",
        "df_passageiros.head()"
      ],
      "metadata": {
        "colab": {
          "base_uri": "https://localhost:8080/",
          "height": 0
        },
        "id": "__uYQ0t3aPTd",
        "outputId": "391ae2b3-c663-4740-ae9e-002c569cf24b"
      },
      "execution_count": 3,
      "outputs": [
        {
          "output_type": "execute_result",
          "data": {
            "text/plain": [
              "   avaliacao_conforto_onibus  avaliacao_limpeza_onibus  disponibilidade_wifi  \\\n",
              "0                          4                         4                     3   \n",
              "1                          3                         3                     2   \n",
              "2                          4                         4                     3   \n",
              "3                          5                         5                     4   \n",
              "4                          3                         3                     1   \n",
              "\n",
              "   valor_medio_passagem  avaliacao_pontualidade  \\\n",
              "0                 121.0                       4   \n",
              "1                 106.0                       5   \n",
              "2                 116.0                       2   \n",
              "3                 140.0                       5   \n",
              "4                  82.0                       4   \n",
              "\n",
              "   avaliacao_atendimento_motorista  tempo_espera_embarque_min  \\\n",
              "0                                5                          9   \n",
              "1                                5                          5   \n",
              "2                                2                         22   \n",
              "3                                4                         13   \n",
              "4                                3                         16   \n",
              "\n",
              "   frequencia_viagens_mes  distancia_media_viagem_km  \n",
              "0                       2                      238.0  \n",
              "1                       3                      286.0  \n",
              "2                       0                       94.0  \n",
              "3                       3                      222.0  \n",
              "4                       1                      182.0  "
            ],
            "text/html": [
              "\n",
              "  <div id=\"df-36ddfa81-0c86-41bf-8edc-2e6fc17e5207\" class=\"colab-df-container\">\n",
              "    <div>\n",
              "<style scoped>\n",
              "    .dataframe tbody tr th:only-of-type {\n",
              "        vertical-align: middle;\n",
              "    }\n",
              "\n",
              "    .dataframe tbody tr th {\n",
              "        vertical-align: top;\n",
              "    }\n",
              "\n",
              "    .dataframe thead th {\n",
              "        text-align: right;\n",
              "    }\n",
              "</style>\n",
              "<table border=\"1\" class=\"dataframe\">\n",
              "  <thead>\n",
              "    <tr style=\"text-align: right;\">\n",
              "      <th></th>\n",
              "      <th>avaliacao_conforto_onibus</th>\n",
              "      <th>avaliacao_limpeza_onibus</th>\n",
              "      <th>disponibilidade_wifi</th>\n",
              "      <th>valor_medio_passagem</th>\n",
              "      <th>avaliacao_pontualidade</th>\n",
              "      <th>avaliacao_atendimento_motorista</th>\n",
              "      <th>tempo_espera_embarque_min</th>\n",
              "      <th>frequencia_viagens_mes</th>\n",
              "      <th>distancia_media_viagem_km</th>\n",
              "    </tr>\n",
              "  </thead>\n",
              "  <tbody>\n",
              "    <tr>\n",
              "      <th>0</th>\n",
              "      <td>4</td>\n",
              "      <td>4</td>\n",
              "      <td>3</td>\n",
              "      <td>121.0</td>\n",
              "      <td>4</td>\n",
              "      <td>5</td>\n",
              "      <td>9</td>\n",
              "      <td>2</td>\n",
              "      <td>238.0</td>\n",
              "    </tr>\n",
              "    <tr>\n",
              "      <th>1</th>\n",
              "      <td>3</td>\n",
              "      <td>3</td>\n",
              "      <td>2</td>\n",
              "      <td>106.0</td>\n",
              "      <td>5</td>\n",
              "      <td>5</td>\n",
              "      <td>5</td>\n",
              "      <td>3</td>\n",
              "      <td>286.0</td>\n",
              "    </tr>\n",
              "    <tr>\n",
              "      <th>2</th>\n",
              "      <td>4</td>\n",
              "      <td>4</td>\n",
              "      <td>3</td>\n",
              "      <td>116.0</td>\n",
              "      <td>2</td>\n",
              "      <td>2</td>\n",
              "      <td>22</td>\n",
              "      <td>0</td>\n",
              "      <td>94.0</td>\n",
              "    </tr>\n",
              "    <tr>\n",
              "      <th>3</th>\n",
              "      <td>5</td>\n",
              "      <td>5</td>\n",
              "      <td>4</td>\n",
              "      <td>140.0</td>\n",
              "      <td>5</td>\n",
              "      <td>4</td>\n",
              "      <td>13</td>\n",
              "      <td>3</td>\n",
              "      <td>222.0</td>\n",
              "    </tr>\n",
              "    <tr>\n",
              "      <th>4</th>\n",
              "      <td>3</td>\n",
              "      <td>3</td>\n",
              "      <td>1</td>\n",
              "      <td>82.0</td>\n",
              "      <td>4</td>\n",
              "      <td>3</td>\n",
              "      <td>16</td>\n",
              "      <td>1</td>\n",
              "      <td>182.0</td>\n",
              "    </tr>\n",
              "  </tbody>\n",
              "</table>\n",
              "</div>\n",
              "    <div class=\"colab-df-buttons\">\n",
              "\n",
              "  <div class=\"colab-df-container\">\n",
              "    <button class=\"colab-df-convert\" onclick=\"convertToInteractive('df-36ddfa81-0c86-41bf-8edc-2e6fc17e5207')\"\n",
              "            title=\"Convert this dataframe to an interactive table.\"\n",
              "            style=\"display:none;\">\n",
              "\n",
              "  <svg xmlns=\"http://www.w3.org/2000/svg\" height=\"24px\" viewBox=\"0 -960 960 960\">\n",
              "    <path d=\"M120-120v-720h720v720H120Zm60-500h600v-160H180v160Zm220 220h160v-160H400v160Zm0 220h160v-160H400v160ZM180-400h160v-160H180v160Zm440 0h160v-160H620v160ZM180-180h160v-160H180v160Zm440 0h160v-160H620v160Z\"/>\n",
              "  </svg>\n",
              "    </button>\n",
              "\n",
              "  <style>\n",
              "    .colab-df-container {\n",
              "      display:flex;\n",
              "      gap: 12px;\n",
              "    }\n",
              "\n",
              "    .colab-df-convert {\n",
              "      background-color: #E8F0FE;\n",
              "      border: none;\n",
              "      border-radius: 50%;\n",
              "      cursor: pointer;\n",
              "      display: none;\n",
              "      fill: #1967D2;\n",
              "      height: 32px;\n",
              "      padding: 0 0 0 0;\n",
              "      width: 32px;\n",
              "    }\n",
              "\n",
              "    .colab-df-convert:hover {\n",
              "      background-color: #E2EBFA;\n",
              "      box-shadow: 0px 1px 2px rgba(60, 64, 67, 0.3), 0px 1px 3px 1px rgba(60, 64, 67, 0.15);\n",
              "      fill: #174EA6;\n",
              "    }\n",
              "\n",
              "    .colab-df-buttons div {\n",
              "      margin-bottom: 4px;\n",
              "    }\n",
              "\n",
              "    [theme=dark] .colab-df-convert {\n",
              "      background-color: #3B4455;\n",
              "      fill: #D2E3FC;\n",
              "    }\n",
              "\n",
              "    [theme=dark] .colab-df-convert:hover {\n",
              "      background-color: #434B5C;\n",
              "      box-shadow: 0px 1px 3px 1px rgba(0, 0, 0, 0.15);\n",
              "      filter: drop-shadow(0px 1px 2px rgba(0, 0, 0, 0.3));\n",
              "      fill: #FFFFFF;\n",
              "    }\n",
              "  </style>\n",
              "\n",
              "    <script>\n",
              "      const buttonEl =\n",
              "        document.querySelector('#df-36ddfa81-0c86-41bf-8edc-2e6fc17e5207 button.colab-df-convert');\n",
              "      buttonEl.style.display =\n",
              "        google.colab.kernel.accessAllowed ? 'block' : 'none';\n",
              "\n",
              "      async function convertToInteractive(key) {\n",
              "        const element = document.querySelector('#df-36ddfa81-0c86-41bf-8edc-2e6fc17e5207');\n",
              "        const dataTable =\n",
              "          await google.colab.kernel.invokeFunction('convertToInteractive',\n",
              "                                                    [key], {});\n",
              "        if (!dataTable) return;\n",
              "\n",
              "        const docLinkHtml = 'Like what you see? Visit the ' +\n",
              "          '<a target=\"_blank\" href=https://colab.research.google.com/notebooks/data_table.ipynb>data table notebook</a>'\n",
              "          + ' to learn more about interactive tables.';\n",
              "        element.innerHTML = '';\n",
              "        dataTable['output_type'] = 'display_data';\n",
              "        await google.colab.output.renderOutput(dataTable, element);\n",
              "        const docLink = document.createElement('div');\n",
              "        docLink.innerHTML = docLinkHtml;\n",
              "        element.appendChild(docLink);\n",
              "      }\n",
              "    </script>\n",
              "  </div>\n",
              "\n",
              "\n",
              "    <div id=\"df-64952765-2807-4e92-8303-baee01b40404\">\n",
              "      <button class=\"colab-df-quickchart\" onclick=\"quickchart('df-64952765-2807-4e92-8303-baee01b40404')\"\n",
              "                title=\"Suggest charts\"\n",
              "                style=\"display:none;\">\n",
              "\n",
              "<svg xmlns=\"http://www.w3.org/2000/svg\" height=\"24px\"viewBox=\"0 0 24 24\"\n",
              "     width=\"24px\">\n",
              "    <g>\n",
              "        <path d=\"M19 3H5c-1.1 0-2 .9-2 2v14c0 1.1.9 2 2 2h14c1.1 0 2-.9 2-2V5c0-1.1-.9-2-2-2zM9 17H7v-7h2v7zm4 0h-2V7h2v10zm4 0h-2v-4h2v4z\"/>\n",
              "    </g>\n",
              "</svg>\n",
              "      </button>\n",
              "\n",
              "<style>\n",
              "  .colab-df-quickchart {\n",
              "      --bg-color: #E8F0FE;\n",
              "      --fill-color: #1967D2;\n",
              "      --hover-bg-color: #E2EBFA;\n",
              "      --hover-fill-color: #174EA6;\n",
              "      --disabled-fill-color: #AAA;\n",
              "      --disabled-bg-color: #DDD;\n",
              "  }\n",
              "\n",
              "  [theme=dark] .colab-df-quickchart {\n",
              "      --bg-color: #3B4455;\n",
              "      --fill-color: #D2E3FC;\n",
              "      --hover-bg-color: #434B5C;\n",
              "      --hover-fill-color: #FFFFFF;\n",
              "      --disabled-bg-color: #3B4455;\n",
              "      --disabled-fill-color: #666;\n",
              "  }\n",
              "\n",
              "  .colab-df-quickchart {\n",
              "    background-color: var(--bg-color);\n",
              "    border: none;\n",
              "    border-radius: 50%;\n",
              "    cursor: pointer;\n",
              "    display: none;\n",
              "    fill: var(--fill-color);\n",
              "    height: 32px;\n",
              "    padding: 0;\n",
              "    width: 32px;\n",
              "  }\n",
              "\n",
              "  .colab-df-quickchart:hover {\n",
              "    background-color: var(--hover-bg-color);\n",
              "    box-shadow: 0 1px 2px rgba(60, 64, 67, 0.3), 0 1px 3px 1px rgba(60, 64, 67, 0.15);\n",
              "    fill: var(--button-hover-fill-color);\n",
              "  }\n",
              "\n",
              "  .colab-df-quickchart-complete:disabled,\n",
              "  .colab-df-quickchart-complete:disabled:hover {\n",
              "    background-color: var(--disabled-bg-color);\n",
              "    fill: var(--disabled-fill-color);\n",
              "    box-shadow: none;\n",
              "  }\n",
              "\n",
              "  .colab-df-spinner {\n",
              "    border: 2px solid var(--fill-color);\n",
              "    border-color: transparent;\n",
              "    border-bottom-color: var(--fill-color);\n",
              "    animation:\n",
              "      spin 1s steps(1) infinite;\n",
              "  }\n",
              "\n",
              "  @keyframes spin {\n",
              "    0% {\n",
              "      border-color: transparent;\n",
              "      border-bottom-color: var(--fill-color);\n",
              "      border-left-color: var(--fill-color);\n",
              "    }\n",
              "    20% {\n",
              "      border-color: transparent;\n",
              "      border-left-color: var(--fill-color);\n",
              "      border-top-color: var(--fill-color);\n",
              "    }\n",
              "    30% {\n",
              "      border-color: transparent;\n",
              "      border-left-color: var(--fill-color);\n",
              "      border-top-color: var(--fill-color);\n",
              "      border-right-color: var(--fill-color);\n",
              "    }\n",
              "    40% {\n",
              "      border-color: transparent;\n",
              "      border-right-color: var(--fill-color);\n",
              "      border-top-color: var(--fill-color);\n",
              "    }\n",
              "    60% {\n",
              "      border-color: transparent;\n",
              "      border-right-color: var(--fill-color);\n",
              "    }\n",
              "    80% {\n",
              "      border-color: transparent;\n",
              "      border-right-color: var(--fill-color);\n",
              "      border-bottom-color: var(--fill-color);\n",
              "    }\n",
              "    90% {\n",
              "      border-color: transparent;\n",
              "      border-bottom-color: var(--fill-color);\n",
              "    }\n",
              "  }\n",
              "</style>\n",
              "\n",
              "      <script>\n",
              "        async function quickchart(key) {\n",
              "          const quickchartButtonEl =\n",
              "            document.querySelector('#' + key + ' button');\n",
              "          quickchartButtonEl.disabled = true;  // To prevent multiple clicks.\n",
              "          quickchartButtonEl.classList.add('colab-df-spinner');\n",
              "          try {\n",
              "            const charts = await google.colab.kernel.invokeFunction(\n",
              "                'suggestCharts', [key], {});\n",
              "          } catch (error) {\n",
              "            console.error('Error during call to suggestCharts:', error);\n",
              "          }\n",
              "          quickchartButtonEl.classList.remove('colab-df-spinner');\n",
              "          quickchartButtonEl.classList.add('colab-df-quickchart-complete');\n",
              "        }\n",
              "        (() => {\n",
              "          let quickchartButtonEl =\n",
              "            document.querySelector('#df-64952765-2807-4e92-8303-baee01b40404 button');\n",
              "          quickchartButtonEl.style.display =\n",
              "            google.colab.kernel.accessAllowed ? 'block' : 'none';\n",
              "        })();\n",
              "      </script>\n",
              "    </div>\n",
              "\n",
              "    </div>\n",
              "  </div>\n"
            ],
            "application/vnd.google.colaboratory.intrinsic+json": {
              "type": "dataframe",
              "variable_name": "df_passageiros",
              "summary": "{\n  \"name\": \"df_passageiros\",\n  \"rows\": 500,\n  \"fields\": [\n    {\n      \"column\": \"avaliacao_conforto_onibus\",\n      \"properties\": {\n        \"dtype\": \"number\",\n        \"std\": 1,\n        \"min\": 1,\n        \"max\": 5,\n        \"num_unique_values\": 5,\n        \"samples\": [\n          3,\n          1,\n          5\n        ],\n        \"semantic_type\": \"\",\n        \"description\": \"\"\n      }\n    },\n    {\n      \"column\": \"avaliacao_limpeza_onibus\",\n      \"properties\": {\n        \"dtype\": \"number\",\n        \"std\": 1,\n        \"min\": 1,\n        \"max\": 5,\n        \"num_unique_values\": 5,\n        \"samples\": [\n          3,\n          1,\n          5\n        ],\n        \"semantic_type\": \"\",\n        \"description\": \"\"\n      }\n    },\n    {\n      \"column\": \"disponibilidade_wifi\",\n      \"properties\": {\n        \"dtype\": \"number\",\n        \"std\": 1,\n        \"min\": 1,\n        \"max\": 5,\n        \"num_unique_values\": 5,\n        \"samples\": [\n          2,\n          5,\n          4\n        ],\n        \"semantic_type\": \"\",\n        \"description\": \"\"\n      }\n    },\n    {\n      \"column\": \"valor_medio_passagem\",\n      \"properties\": {\n        \"dtype\": \"number\",\n        \"std\": 30.396576908848658,\n        \"min\": 50.0,\n        \"max\": 231.0,\n        \"num_unique_values\": 119,\n        \"samples\": [\n          64.0,\n          184.0,\n          82.0\n        ],\n        \"semantic_type\": \"\",\n        \"description\": \"\"\n      }\n    },\n    {\n      \"column\": \"avaliacao_pontualidade\",\n      \"properties\": {\n        \"dtype\": \"number\",\n        \"std\": 0,\n        \"min\": 1,\n        \"max\": 5,\n        \"num_unique_values\": 5,\n        \"samples\": [\n          5,\n          1,\n          2\n        ],\n        \"semantic_type\": \"\",\n        \"description\": \"\"\n      }\n    },\n    {\n      \"column\": \"avaliacao_atendimento_motorista\",\n      \"properties\": {\n        \"dtype\": \"number\",\n        \"std\": 0,\n        \"min\": 1,\n        \"max\": 5,\n        \"num_unique_values\": 5,\n        \"samples\": [\n          2,\n          1,\n          4\n        ],\n        \"semantic_type\": \"\",\n        \"description\": \"\"\n      }\n    },\n    {\n      \"column\": \"tempo_espera_embarque_min\",\n      \"properties\": {\n        \"dtype\": \"number\",\n        \"std\": 5,\n        \"min\": 0,\n        \"max\": 30,\n        \"num_unique_values\": 30,\n        \"samples\": [\n          1,\n          17,\n          24\n        ],\n        \"semantic_type\": \"\",\n        \"description\": \"\"\n      }\n    },\n    {\n      \"column\": \"frequencia_viagens_mes\",\n      \"properties\": {\n        \"dtype\": \"number\",\n        \"std\": 1,\n        \"min\": 0,\n        \"max\": 5,\n        \"num_unique_values\": 6,\n        \"samples\": [\n          2,\n          3,\n          5\n        ],\n        \"semantic_type\": \"\",\n        \"description\": \"\"\n      }\n    },\n    {\n      \"column\": \"distancia_media_viagem_km\",\n      \"properties\": {\n        \"dtype\": \"number\",\n        \"std\": 52.9520789140771,\n        \"min\": 52.0,\n        \"max\": 338.0,\n        \"num_unique_values\": 195,\n        \"samples\": [\n          119.0,\n          208.0,\n          262.0\n        ],\n        \"semantic_type\": \"\",\n        \"description\": \"\"\n      }\n    }\n  ]\n}"
            }
          },
          "metadata": {},
          "execution_count": 3
        }
      ]
    },
    {
      "cell_type": "code",
      "source": [
        "# Exibindo as principais informações o DataFrame\n",
        "print(df_passageiros.info())"
      ],
      "metadata": {
        "colab": {
          "base_uri": "https://localhost:8080/"
        },
        "id": "s0KCa09KfI7z",
        "outputId": "7ecd3365-7fa3-4381-ffda-72e95292a52b"
      },
      "execution_count": 4,
      "outputs": [
        {
          "output_type": "stream",
          "name": "stdout",
          "text": [
            "<class 'pandas.core.frame.DataFrame'>\n",
            "RangeIndex: 500 entries, 0 to 499\n",
            "Data columns (total 9 columns):\n",
            " #   Column                           Non-Null Count  Dtype  \n",
            "---  ------                           --------------  -----  \n",
            " 0   avaliacao_conforto_onibus        500 non-null    int64  \n",
            " 1   avaliacao_limpeza_onibus         500 non-null    int64  \n",
            " 2   disponibilidade_wifi             500 non-null    int64  \n",
            " 3   valor_medio_passagem             500 non-null    float64\n",
            " 4   avaliacao_pontualidade           500 non-null    int64  \n",
            " 5   avaliacao_atendimento_motorista  500 non-null    int64  \n",
            " 6   tempo_espera_embarque_min        500 non-null    int64  \n",
            " 7   frequencia_viagens_mes           500 non-null    int64  \n",
            " 8   distancia_media_viagem_km        500 non-null    float64\n",
            "dtypes: float64(2), int64(7)\n",
            "memory usage: 35.3 KB\n",
            "None\n"
          ]
        }
      ]
    },
    {
      "cell_type": "markdown",
      "source": [
        "Neste bloco, realizamos a etapa fundamental de **geração de um dataset sintético** para simular o comportamento e a satisfação de passageiros de transporte rodoviário. A decisão de criar dados artificiais, em vez de utilizar um conjunto de dados real, foi estratégica e didática. Ela nos permitiu exercer controle total sobre a estrutura subjacente dos dados, intencionalmente incorporando **dois fatores latentes** principais: um relacionado à **Qualidade e Conforto da Viagem** (influenciando variáveis como `avaliacao_conforto_onibus`, `avaliacao_limpeza_onibus`, `disponibilidade_wifi` e `valor_medio_passagem`) e outro à **Eficiência e Frequência do Serviço** (impactando `avaliacao_pontualidade`, `avaliacao_atendimento_motorista`, `tempo_espera_embarque_min` e `frequencia_viagens_mes`).\n",
        "\n",
        "Essa abordagem controlada é inestimável para o aprendizado, pois nos permitirá validar a capacidade da Análise Fatorial de \"descobrir\" esses fatores predefinidos, aprofundando nossa compreensão da técnica. Além disso, para um portfólio, demonstra não apenas a habilidade de aplicar ferramentas, mas também o entendimento dos princípios por trás delas. A utilização de `random.seed()` e `np.random.seed()` foi crucial para garantir a **reprodutibilidade** do dataset, assegurando que os resultados obtidos sejam consistentes em qualquer execução futura do notebook. Com nosso dataset agora criado e inspecionado, estamos prontos para a próxima fase de pré-processamento e verificação da adequação dos dados para a Análise Fatorial.\n"
      ],
      "metadata": {
        "id": "fZSzanaJhgHw"
      }
    },
    {
      "cell_type": "markdown",
      "source": [
        "## **Bloco 3: Verificando a Adequação dos Dados com o Teste de Bartlett**"
      ],
      "metadata": {
        "id": "OsahPCLshzX7"
      }
    },
    {
      "cell_type": "markdown",
      "source": [
        "Nesta fase do projeto, antes de prosseguirmos com a Análise Fatorial propriamente dita, é crucial verificar se o nosso conjunto de dados é adequado para essa técnica. Dois testes estatísticos são comumente empregados para essa finalidade: o Teste de Esfericidade de Bartlett e a Medida de Adequação da Amostra de Kaiser-Meyer-Olkin (KMO). Começaremos com o Teste de Bartlett.\n",
        "\n",
        "**Teste de Esfericidade de Bartlett**\n",
        "\n",
        "O Teste de Esfericidade de Bartlett avalia a hipótese de que a matriz de correlação das variáveis é uma matriz identidade. Em termos mais simples, ele verifica se as variáveis são não correlacionadas na população.\n",
        "\n",
        "- **Hipótese Nula** (H0): A matriz de correlação é uma matriz identidade (ou seja, as variáveis não são correlacionadas entre si).\n",
        "\n",
        "- **Hipótese Alternativa** (H1): A matriz de correlação não é uma matriz identidade (ou seja, existe correlação significativa entre as variáveis).\n",
        "\n",
        "Para que a Análise Fatorial seja apropriada, desejamos rejeitar a hipótese nula. Isso significa que esperamos um **valor-p baixo** (tipicamente menor que 0.05). Um valor-p baixo indica que as variáveis estão suficientemente correlacionadas para que a extração de fatores latentes seja significativa. Se o valor-p for alto, isso sugere que as variáveis são independentes, e a Análise Fatorial pode não ser útil."
      ],
      "metadata": {
        "id": "q01hN-4wh9Le"
      }
    },
    {
      "cell_type": "code",
      "source": [
        "# Carrega o dataset de passageiros\n",
        "df_passageiros = pd.read_csv('dataset_passageiros.csv')\n",
        "\n",
        "# Realiza o Teste de Esfericidade de Bartlett\n",
        "# A função retorna a estatística de teste (chi-square) e o valor-p\n",
        "chi_square_value, p_value = calculate_bartlett_sphericity(df_passageiros)\n",
        "\n",
        "print(f\"Estatística do Teste de Bartlett (Chi-Square): {chi_square_value:.2f}\")\n",
        "print(f\"Valor-p do Teste de Bartlett: {p_value:.4f}\")\n",
        "\n",
        "# Interpretação do resultado\n",
        "if p_value < 0.05:\n",
        "    print(\"\\nO valor-p é menor que 0.05. Rejeitamos a hipótese nula.\")\n",
        "    print(\"Isso indica que as variáveis estão suficientemente correlacionadas para a Análise Fatorial.\")\n",
        "else:\n",
        "    print(\"\\nO valor-p é maior que 0.05. Não rejeitamos a hipótese nula.\")\n",
        "    print(\"Isso sugere que as variáveis não estão suficientemente correlacionadas, e a Análise Fatorial pode não ser apropriada.\")"
      ],
      "metadata": {
        "colab": {
          "base_uri": "https://localhost:8080/"
        },
        "id": "wMfujb-sfyP5",
        "outputId": "a2e53a40-9910-4b68-db06-8a09060c5dce"
      },
      "execution_count": 5,
      "outputs": [
        {
          "output_type": "stream",
          "name": "stdout",
          "text": [
            "Estatística do Teste de Bartlett (Chi-Square): 4032.57\n",
            "Valor-p do Teste de Bartlett: 0.0000\n",
            "\n",
            "O valor-p é menor que 0.05. Rejeitamos a hipótese nula.\n",
            "Isso indica que as variáveis estão suficientemente correlacionadas para a Análise Fatorial.\n"
          ]
        }
      ]
    },
    {
      "cell_type": "markdown",
      "source": [
        "Neste bloco, demos um passo crucial na validação da aplicabilidade da Análise Fatorial ao nosso dataset sintético de transporte rodoviário de passageiros, realizando o **Teste de Esfericidade de Bartlett**. Este teste é fundamental para determinar se as variáveis observáveis em nosso conjunto de dados possuem correlações significativas entre si, uma premissa básica para a Análise Fatorial.\n",
        "\n",
        "A **hipótese nula (H0)** do Teste de Bartlett postula que a matriz de correlação das variáveis é uma matriz identidade, implicando que as variáveis são independentes e não correlacionadas. Para que a Análise Fatorial seja uma ferramenta adequada, nosso objetivo é **rejeitar essa hipótese nula**. Isso é alcançado quando o **valor-p** resultante do teste é **inferior a um nível de significância pré-definido**, geralmente 0.05 (ou 5%). Um valor-p baixo indica que as correlações observadas entre as variáveis são estatisticamente significativas e não ocorreram por acaso, justificando a busca por fatores latentes que as expliquem.\n",
        "\n",
        "O resultado do teste em nosso dataset sintético (Estatística do Teste: **4032.57**, Valor-p: **0.00**) demonstrou que o valor-p foi significativamente baixo. Isso nos permite **rejeitar a hipótese nula**, confirmando que as variáveis em nosso dataset são suficientemente correlacionadas. Este resultado é um forte indicativo de que a Análise Fatorial é uma abordagem estatística apropriada para explorar a estrutura subjacente e identificar os fatores latentes que influenciam a satisfação e o comportamento dos passageiros. Com essa validação inicial, podemos prosseguir com confiança para o próximo teste de adequação, o KMO, que nos dará uma perspectiva complementar sobre a adequação dos dados.\n"
      ],
      "metadata": {
        "id": "ig6klEkuiPeP"
      }
    },
    {
      "cell_type": "markdown",
      "source": [
        "## **Bloco 4: Verificando a Adequação dos Dados com o Teste de Kaiser-Meyer-Olkin (KMO)**"
      ],
      "metadata": {
        "id": "k5vOU8U9rv_I"
      }
    },
    {
      "cell_type": "markdown",
      "source": [
        "Após o Teste de Esfericidade de Bartlett, que nos confirmou a existência de correlações significativas entre as variáveis, o próximo passo para avaliar a adequação dos dados para a Análise Fatorial é o **Teste de Kaiser-Meyer-Olkin (KMO)**."
      ],
      "metadata": {
        "id": "Sz2hWOLBr0EV"
      }
    },
    {
      "cell_type": "markdown",
      "source": [
        "**Teste de Kaiser-Meyer-Olkin (KMO)**\n",
        "\n",
        "O KMO é uma medida da adequação da amostra para a Análise Fatorial. Ele quantifica a proporção da variância em suas variáveis que pode ser explicada por fatores subjacentes. Em outras palavras, o KMO mede o quão bem os dados se ajustam a uma análise fatorial, indicando se as correlações parciais entre os pares de variáveis são pequenas em comparação com as correlações totais.\n",
        "\n",
        "O valor do KMO varia de 0 a 1. A interpretação geral é a seguinte:\n",
        "\n",
        "- KMO < 0.50: Inadequado para a Análise Fatorial.\n",
        "\n",
        "- 0.50 <= KMO < 0.70: Medíocre. A Análise Fatorial pode ser realizada, mas com cautela.\n",
        "\n",
        "- 0.70 <= KMO < 0.80: Bom.\n",
        "\n",
        "- 0.80 <= KMO < 0.90: Ótimo.\n",
        "\n",
        "- KMO >= 0.90: Excelente.\n",
        "\n",
        "Além de uma medida KMO global para todo o conjunto de dados, o teste também fornece valores KMO individuais para cada variável. Variáveis com valores KMO individuais abaixo de 0.50 podem ser consideradas para exclusão da análise, pois indicam que essa variável específica não está bem correlacionada com as outras e pode não ser bem explicada pelos fatores comuns."
      ],
      "metadata": {
        "id": "cQeUzpnvr9r8"
      }
    },
    {
      "cell_type": "code",
      "source": [
        "# Realiza o Teste de Kaiser-Meyer-Olkin (KMO)\n",
        "# A função retorna o KMO para cada variável (kmo_all) e o KMO global (kmo_model)\n",
        "kmo_all, kmo_model = calculate_kmo(df_passageiros)\n",
        "\n",
        "print(f\"KMO Global: {kmo_model:.4f}\")\n",
        "print(\"\\nKMO Por Variável:\")\n",
        "for i, col in enumerate(df_passageiros.columns):\n",
        "    print(f\"  {col}: {kmo_all[i]:.4f}\")\n",
        "\n",
        "# Interpretação do KMO Global\n",
        "if kmo_model >= 0.90:\n",
        "    print(\"\\nKMO Global é Excelente. Os dados são altamente adequados para a Análise Fatorial.\")\n",
        "elif kmo_model >= 0.80:\n",
        "    print(\"\\nKMO Global é Ótimo. Os dados são muito adequados para a Análise Fatorial.\")\n",
        "elif kmo_model >= 0.70:\n",
        "    print(\"\\nKMO Global é Bom. Os dados são adequados para a Análise Fatorial.\")\n",
        "elif kmo_model >= 0.50:\n",
        "    print(\"\\nKMO Global é Medíocre. A Análise Fatorial pode ser realizada, mas com cautela.\")\n",
        "else:\n",
        "    print(\"\\nKMO Global é Inadequado. A Análise Fatorial não é recomendada para estes dados.\")\n",
        "\n",
        "# Verificação de KMO individual para cada variável\n",
        "print(\"\\nVerificação de KMO individual (abaixo de 0.50 pode indicar problema):\")\n",
        "for i, col in enumerate(df_passageiros.columns):\n",
        "    if kmo_all[i] < 0.50:\n",
        "        print(f\"  ATENÇÃO: A variável '{col}' possui KMO individual baixo ({kmo_all[i]:.4f}).\")"
      ],
      "metadata": {
        "colab": {
          "base_uri": "https://localhost:8080/"
        },
        "id": "dmEQMUFojnla",
        "outputId": "e817f0a2-d4a1-465a-a4d6-ed74cd61691c"
      },
      "execution_count": 6,
      "outputs": [
        {
          "output_type": "stream",
          "name": "stdout",
          "text": [
            "KMO Global: 0.8824\n",
            "\n",
            "KMO Por Variável:\n",
            "  avaliacao_conforto_onibus: 0.8521\n",
            "  avaliacao_limpeza_onibus: 0.8768\n",
            "  disponibilidade_wifi: 0.8919\n",
            "  valor_medio_passagem: 0.8206\n",
            "  avaliacao_pontualidade: 0.9383\n",
            "  avaliacao_atendimento_motorista: 0.9445\n",
            "  tempo_espera_embarque_min: 0.8565\n",
            "  frequencia_viagens_mes: 0.9234\n",
            "  distancia_media_viagem_km: 0.8632\n",
            "\n",
            "KMO Global é Ótimo. Os dados são muito adequados para a Análise Fatorial.\n",
            "\n",
            "Verificação de KMO individual (abaixo de 0.50 pode indicar problema):\n"
          ]
        }
      ]
    },
    {
      "cell_type": "markdown",
      "source": [
        "Complementando o Teste de Bartlett, o **Teste de Kaiser-Meyer-Olkin (KMO)** foi aplicado para refinar nossa avaliação da adequação dos dados para a Análise Fatorial. Enquanto o Bartlett nos confirmou a existência de correlações significativas, o KMO quantifica a **proporção da variância** em nossas variáveis que pode ser atribuída a fatores comuns subjacentes. Em essência, ele nos diz o quão bem as variáveis se agrupam para formar fatores.\n",
        "\n",
        "O **KMO global** é uma medida agregada para todo o conjunto de dados, variando de 0 a 1. Valores mais próximos de 1 indicam que as correlações parciais entre as variáveis são pequenas em comparação com as correlações totais, sugerindo uma forte estrutura fatorial e alta adequação. A interpretação do KMO global é crucial: valores acima de 0.70 são geralmente considerados bons, enquanto acima de 0.80 são ótimos e acima de 0.90, excelentes.\n",
        "\n",
        "Além do KMO global, a análise dos **KMOs individuais por variável** é igualmente importante. Essa granularidade nos permite identificar variáveis específicas que podem não estar bem correlacionadas com as demais ou que não são bem explicadas pelos fatores comuns. Variáveis com KMO individual abaixo de 0.50 são candidatas à exclusão, pois podem prejudicar a clareza e a interpretabilidade dos fatores extraídos.\n",
        "\n",
        "Os resultados obtidos para o nosso dataset sintético (KMO Global: **0.8824**, KMO Por Variável: todos acima de **0.80**) demonstram uma **excelente adequação** dos dados para a Análise Fatorial. Tanto o KMO global quanto os KMOs individuais de todas as variáveis se situam em patamares que validam fortemente a aplicação da técnica. Com a confirmação da adequação dos dados pelos testes de Bartlett e KMO, temos uma base sólida para prosseguir com a extração e interpretação dos fatores latentes.\n"
      ],
      "metadata": {
        "id": "SgH8QZ0wtw6P"
      }
    },
    {
      "cell_type": "markdown",
      "source": [
        "## **Bloco 5: Análise Fatorial e Determinação do Número de Fatores**"
      ],
      "metadata": {
        "id": "aDA6kN_2uYN0"
      }
    },
    {
      "cell_type": "markdown",
      "source": [
        "Com a adequação dos dados confirmada pelos testes de Bartlett e KMO, estamos prontos para a etapa central da Análise Fatorial: a extração dos fatores latentes. Um dos desafios iniciais é determinar o número ideal de fatores a serem extraídos do nosso conjunto de dados.\n",
        "\n",
        "**Determinação do Número de Fatores: Autovalores e Gráfico de Cotovelo (Scree Plot)**\n",
        "\n",
        "Existem vários critérios para decidir o número de fatores, mas dois dos mais comuns são:\n",
        "\n",
        "1. **Critério de Kaiser (Kaiser's Criterion)**: Sugere reter apenas os fatores com autovalores (eigenvalues) maiores que 1. Um autovalor representa a quantidade de variância explicada por um fator. Fatores com autovalores menores que 1 explicam menos variância do que uma única variável original.\n",
        "\n",
        "2. **Gráfico de Cotovelo (Scree Plot)**: Este é um método visual. O gráfico de cotovelo plota os autovalores em ordem decrescente. O \"cotovelo\" ou \"ponto de inflexão\" na curva sugere o número ideal de fatores. Geralmente, você procura o ponto onde a inclinação da curva se torna significativamente menos acentuada, indicando que os fatores subsequentes contribuem com pouca variância adicional.\n",
        "\n",
        "Neste bloco, vamos calcular os autovalores e gerar o gráfico de cotovelo para nos ajudar a tomar essa decisão."
      ],
      "metadata": {
        "id": "UVMICwB5udgk"
      }
    },
    {
      "cell_type": "code",
      "source": [
        "# Cria uma instância do FactorAnalyzer sem especificar o número de fatores inicialmente,\n",
        "# para que possamos obter todos os autovalores.\n",
        "# A rotação 'varimax' é um método comum que será usado na análise final.\n",
        "fa = FactorAnalyzer(rotation=\"varimax\")\n",
        "\n",
        "# Ajusta o modelo aos dados para calcular os autovalores\n",
        "fa.fit(df_passageiros)\n",
        "\n",
        "# Obtém os autovalores\n",
        "# O primeiro array são os autovalores, o segundo são os vetores próprios (eigenvectors)\n",
        "eigen_values, vectors = fa.get_eigenvalues()\n",
        "\n",
        "print(\"Autovalores (Eigenvalues):\")\n",
        "print(eigen_values)\n",
        "\n",
        "# Cria o Gráfico de Cotovelo (Scree Plot)\n",
        "plt.figure(figsize=(10, 6))\n",
        "plt.scatter(range(1, df_passageiros.shape[1] + 1), eigen_values)\n",
        "plt.plot(range(1, df_passageiros.shape[1] + 1), eigen_values, marker='o', linestyle='-')\n",
        "plt.title('Gráfico de Cotovelo (Scree Plot)')\n",
        "plt.xlabel('Número do Fator')\n",
        "plt.ylabel('Autovalor')\n",
        "plt.grid(True)\n",
        "plt.axhline(y=1, color='r', linestyle='--', label='Critério de Kaiser (Autovalor > 1)') # Linha de referência para o critério de Kaiser\n",
        "plt.legend()\n",
        "plt.show()\n",
        "\n",
        "# Imprime os autovalores para facilitar a análise do critério de Kaiser\n",
        "print(\"\\nAutovalores em ordem decrescente:\")\n",
        "for i, val in enumerate(eigen_values):\n",
        "    print(f\"Fator {i+1}: {val:.4f}\")"
      ],
      "metadata": {
        "colab": {
          "base_uri": "https://localhost:8080/",
          "height": 842
        },
        "id": "KTWa5z5fsRyk",
        "outputId": "242349f3-51a9-4130-81a2-70f4de086f6f"
      },
      "execution_count": 8,
      "outputs": [
        {
          "output_type": "stream",
          "name": "stderr",
          "text": [
            "/usr/local/lib/python3.11/dist-packages/sklearn/utils/deprecation.py:151: FutureWarning: 'force_all_finite' was renamed to 'ensure_all_finite' in 1.6 and will be removed in 1.8.\n",
            "  warnings.warn(\n"
          ]
        },
        {
          "output_type": "stream",
          "name": "stdout",
          "text": [
            "Autovalores (Eigenvalues):\n",
            "[4.0671884  3.32579989 0.36252065 0.31707771 0.25729387 0.21451318\n",
            " 0.17389263 0.16016769 0.12154598]\n"
          ]
        },
        {
          "output_type": "display_data",
          "data": {
            "text/plain": [
              "<Figure size 1000x600 with 1 Axes>"
            ],
            "image/png": "[encoded data removed]"
          },
          "metadata": {}
        },
        {
          "output_type": "stream",
          "name": "stdout",
          "text": [
            "\n",
            "Autovalores em ordem decrescente:\n",
            "Fator 1: 4.0672\n",
            "Fator 2: 3.3258\n",
            "Fator 3: 0.3625\n",
            "Fator 4: 0.3171\n",
            "Fator 5: 0.2573\n",
            "Fator 6: 0.2145\n",
            "Fator 7: 0.1739\n",
            "Fator 8: 0.1602\n",
            "Fator 9: 0.1215\n"
          ]
        }
      ]
    },
    {
      "cell_type": "markdown",
      "source": [
        "Com a adequação dos dados confirmada pelos testes de Bartlett e KMO, avançamos para a etapa crucial de extração dos fatores latentes. Um dos primeiros e mais importantes desafios nesta fase é a **determinação do número ideal de fatores** a serem retidos para a análise. A escolha correta do número de fatores é fundamental para a construção de um modelo parcimonioso e interpretável.\n",
        "\n",
        "Para auxiliar nesta decisão, utilizamos dois critérios amplamente aceitos:\n",
        "1.  **Critério de Kaiser**: Este critério sugere que apenas fatores com **autovalores (eigenvalues) maiores que 1** devem ser considerados significativos. Um autovalor representa a quantidade de variância total nos dados que é explicada por um fator específico. Fatores com autovalores menores que 1 explicam menos variância do que uma única variável original e, portanto, podem ser considerados menos relevantes.\n",
        "2.  **Gráfico de Cotovelo (Scree Plot)**: Esta é uma ferramenta visual onde os autovalores são plotados em ordem decrescente. O \"cotovelo\" ou \"ponto de inflexão\" na curva indica o ponto a partir do qual a contribuição de variância dos fatores subsequentes se torna marginal. O número de fatores a serem retidos é geralmente o número de fatores antes do \"cotovelo\".\n",
        "\n",
        "Ao analisar os autovalores e o **Gráfico de Cotovelo** gerado para o nosso dataset sintético, observamos que os dois primeiros fatores apresentaram autovalores significativamente maiores que 1, e o \"cotovelo\" da curva se manifestou claramente após o segundo fator. Essa evidência visual e numérica, aliada ao nosso conhecimento prévio de que o dataset foi construído com **dois fatores latentes** intencionais, nos levou à decisão de extrair **2 fatores**.\n",
        "\n",
        "Determinar o número correto de fatores é vital porque reter fatores em excesso pode levar a um modelo superajustado, que captura ruído em vez de padrões reais, dificultando a interpretação. Por outro lado, reter poucos fatores pode resultar na perda de informações importantes. A escolha de 2 fatores nos permitirá buscar um modelo que seja ao mesmo tempo robusto, explicativo e de fácil interpretação, alinhado com os objetivos do nosso projeto.\n"
      ],
      "metadata": {
        "id": "lnffKAlrwVRN"
      }
    },
    {
      "cell_type": "markdown",
      "source": [
        "## **Bloco 6: Realizando a Análise Fatorial e Interpretando as Cargas Fatoriais**"
      ],
      "metadata": {
        "id": "O_dxQpsexxmH"
      }
    },
    {
      "cell_type": "markdown",
      "source": [
        "Com a adequação dos dados confirmada e o número de fatores a serem extraídos definido (2 fatores, conforme a análise do Gráfico de Cotovelo e Critério de Kaiser), podemos agora realizar a Análise Fatorial propriamente dita. O objetivo principal é identificar os fatores latentes e entender como cada variável observável se relaciona com esses fatores.\n",
        "\n",
        "**Cargas Fatoriais (Factor Loadings)**\n",
        "\n",
        "As cargas fatoriais são os coeficientes que indicam a força e a direção da relação linear entre cada variável observável e cada fator latente. Elas podem ser interpretadas de forma semelhante aos coeficientes de correlação:\n",
        "\n",
        "- **Magnitude**: Quanto maior o valor absoluto da carga fatorial (mais próximo de 1 ou -1), mais forte é a relação da variável com o fator.\n",
        "\n",
        "- **Sinal**: O sinal (positivo ou negativo) indica a direção da relação. Um sinal positivo significa que a variável aumenta à medida que o fator aumenta, e vice-versa.\n",
        "\n",
        "**Rotação (Varimax)**\n",
        "\n",
        "A rotação é uma técnica aplicada às cargas fatoriais para torná-las mais interpretáveis. O método Varimax, que utilizaremos, é uma rotação ortogonal que busca simplificar a estrutura dos fatores, maximizando a variância das cargas fatoriais. Isso significa que ele tenta fazer com que cada variável tenha uma carga alta em apenas um fator e cargas próximas de zero nos outros fatores, facilitando a identificação de quais variáveis \"pertencem\" a qual fator."
      ],
      "metadata": {
        "id": "d_VRhlMbx1wJ"
      }
    },
    {
      "cell_type": "code",
      "source": [
        "# Cria uma nova instância do FactorAnalyzer com o número de fatores determinado (2)\n",
        "# e a rotação 'varimax' para melhor interpretabilidade.\n",
        "fa = FactorAnalyzer(n_factors=2, rotation=\"varimax\")\n",
        "\n",
        "# Ajusta o modelo aos dados\n",
        "fa.fit(df_passageiros)\n",
        "\n",
        "# Obtém as cargas fatoriais\n",
        "loadings = fa.loadings_\n",
        "\n",
        "# Exibe as cargas fatoriais em um DataFrame para melhor visualização\n",
        "# Os nomes das colunas serão Fator 1 e Fator 2\n",
        "loadings_df = pd.DataFrame(loadings,\n",
        "                           columns=[f'Fator {i+1}' for i in range(fa.n_factors)],\n",
        "                           index=df_passageiros.columns)\n",
        "\n",
        "print(\"Cargas Fatoriais (Factor Loadings) após rotação Varimax:\")\n",
        "print(loadings_df)\n",
        "\n",
        "# Opcional: Visualizar as cargas fatoriais arredondadas para facilitar a interpretação\n",
        "print(\"\\nCargas Fatoriais Arredondadas (para facilitar a interpretação):\")\n",
        "print(loadings_df.round(3))\n"
      ],
      "metadata": {
        "colab": {
          "base_uri": "https://localhost:8080/"
        },
        "id": "FdHSgR80u0Ab",
        "outputId": "634ccde8-f3c2-4eeb-82fb-8f712b4445ab"
      },
      "execution_count": 9,
      "outputs": [
        {
          "output_type": "stream",
          "name": "stderr",
          "text": [
            "/usr/local/lib/python3.11/dist-packages/sklearn/utils/deprecation.py:151: FutureWarning: 'force_all_finite' was renamed to 'ensure_all_finite' in 1.6 and will be removed in 1.8.\n",
            "  warnings.warn(\n"
          ]
        },
        {
          "output_type": "stream",
          "name": "stdout",
          "text": [
            "Cargas Fatoriais (Factor Loadings) após rotação Varimax:\n",
            "                                  Fator 1   Fator 2\n",
            "avaliacao_conforto_onibus       -0.144417  0.905529\n",
            "avaliacao_limpeza_onibus        -0.164963  0.864833\n",
            "disponibilidade_wifi            -0.135010  0.842234\n",
            "valor_medio_passagem            -0.124872  0.926893\n",
            "avaliacao_pontualidade           0.801298  0.088260\n",
            "avaliacao_atendimento_motorista  0.790719  0.063911\n",
            "tempo_espera_embarque_min       -0.924614 -0.093976\n",
            "frequencia_viagens_mes           0.857606  0.072673\n",
            "distancia_media_viagem_km        0.922936  0.074985\n",
            "\n",
            "Cargas Fatoriais Arredondadas (para facilitar a interpretação):\n",
            "                                 Fator 1  Fator 2\n",
            "avaliacao_conforto_onibus         -0.144    0.906\n",
            "avaliacao_limpeza_onibus          -0.165    0.865\n",
            "disponibilidade_wifi              -0.135    0.842\n",
            "valor_medio_passagem              -0.125    0.927\n",
            "avaliacao_pontualidade             0.801    0.088\n",
            "avaliacao_atendimento_motorista    0.791    0.064\n",
            "tempo_espera_embarque_min         -0.925   -0.094\n",
            "frequencia_viagens_mes             0.858    0.073\n",
            "distancia_media_viagem_km          0.923    0.075\n"
          ]
        }
      ]
    },
    {
      "cell_type": "markdown",
      "source": [
        "Neste bloco, executamos a etapa central da Análise Fatorial: a extração dos fatores latentes e a interpretação de suas relações com as variáveis observáveis. Com base na análise do Gráfico de Cotovelo e do Critério de Kaiser no bloco anterior, definimos que **2 fatores** seriam os mais adequados para representar a estrutura subjacente dos nossos dados sintéticos de transporte rodoviário de passageiros.\n",
        "\n",
        "A Análise Fatorial foi realizada utilizando a rotação **Varimax**. A rotação Varimax é uma técnica ortogonal que visa simplificar a estrutura dos fatores, maximizando a variância das cargas fatoriais. Isso significa que ela busca fazer com que cada variável tenha uma carga alta em apenas um fator e cargas próximas de zero nos demais, facilitando significativamente a interpretação dos fatores.\n",
        "\n",
        "As **cargas fatoriais (factor loadings)** resultantes são os coeficientes que indicam a força e a direção da relação linear entre cada variável observável e cada fator latente. Ao analisar a matriz de cargas fatoriais, pudemos identificar claramente os agrupamentos de variáveis que definem cada fator:\n",
        "\n",
        "*   **Fator 1 (Eficiência e Frequência do Serviço)**: Este fator demonstrou altas cargas em variáveis como `frequencia_viagens_mes`, `distancia_media_viagem_km`, `avaliacao_pontualidade` e `avaliacao_atendimento_motorista`. Isso sugere que este fator representa a percepção do passageiro sobre a agilidade, confiabilidade e qualidade da interação com o serviço, bem como a intensidade de uso do transporte.\n",
        "*   **Fator 2 (Qualidade e Conforto da Viagem)**: Este fator apresentou altas cargas em variáveis como `valor_medio_passagem`, `avaliacao_conforto_onibus`, `avaliacao_limpeza_onibus` e `disponibilidade_wifi`. Isso indica que este fator engloba aspectos relacionados à experiência física e ao ambiente da viagem, incluindo o conforto, a limpeza e a disponibilidade de comodidades, além da disposição em pagar por esses atributos.\n",
        "\n",
        "A clareza desses agrupamentos, facilitada pela rotação Varimax, confirma que a Análise Fatorial foi bem-sucedida em desvendar as dimensões latentes que intencionalmente incorporamos na geração dos dados sintéticos. Os fatores identificados são coerentes com o domínio de transporte rodoviário e fornecem uma base sólida para insights de negócio.\n"
      ],
      "metadata": {
        "id": "4b1K6Yhn0NDS"
      }
    },
    {
      "cell_type": "markdown",
      "source": [
        "## **Bloco 7: Comunalidades e Variação Explicada**"
      ],
      "metadata": {
        "id": "RNrmm1c70Xov"
      }
    },
    {
      "cell_type": "markdown",
      "source": [
        "Após a extração e rotação dos fatores, é importante avaliar o quão bem esses fatores latentes explicam a variância das variáveis observáveis. Duas métricas chave para isso são as **Comunalidades** e a **Variação Explicada** pelos fatores.\n",
        "\n",
        "**Comunalidades (Communalities)**\n",
        "\n",
        "As comunalidades representam a proporção da variância de cada variável observável que é explicada pelos fatores comuns extraídos. Em outras palavras, é a quantidade de variância de uma variável que é compartilhada com as outras variáveis através dos fatores latentes.\n",
        "\n",
        "- Um valor de comunalidade próximo de 1 indica que a maior parte da variância daquela variável é explicada pelos fatores extraídos.\n",
        "\n",
        "- Um valor baixo (próximo de 0) sugere que a variável não está bem representada pelos fatores comuns, e sua variância é explicada principalmente por variância única (específica da variável) ou erro.\n",
        "\n",
        "**Variação Explicada (Explained Variance)**\n",
        "\n",
        "A variação explicada, por sua vez, nos informa a proporção da variância total do conjunto de dados que é capturada por cada fator individualmente e pelo conjunto de fatores extraídos.\n",
        "\n",
        "- **Variação de cada fator**: Indica a contribuição de cada fator para a variância total.\n",
        "\n",
        "- **Variação acumulada**: Mostra a porcentagem cumulativa da variância total explicada à medida que mais fatores são incluídos. O objetivo é explicar uma proporção substancial da variância total com o menor número possível de fatores."
      ],
      "metadata": {
        "id": "VM8ywcoM0dsl"
      }
    },
    {
      "cell_type": "code",
      "source": [
        "# Cria uma instância do FactorAnalyzer com o número de fatores determinado (2)\n",
        "# e a rotação 'varimax'. É importante usar a mesma configuração do bloco anterior.\n",
        "fa = FactorAnalyzer(n_factors=2, rotation=\"varimax\")\n",
        "\n",
        "# Ajusta o modelo aos dados\n",
        "fa.fit(df_passageiros)\n",
        "\n",
        "# --- Comunalidades ---\n",
        "communalities = fa.get_communalities()\n",
        "\n",
        "print(\"Comunalidades (Proporção da Variância Explicada por Fatores Comuns):\")\n",
        "for i, col in enumerate(df_passageiros.columns):\n",
        "    print(f\"  {col}: {communalities[i]:.4f}\")\n",
        "\n",
        "# --- Variação Explicada ---\n",
        "# Obtém a variância explicada por cada fator e a variância acumulada\n",
        "# O método `get_factor_variance()` retorna 3 arrays:\n",
        "# 1. Variância explicada por cada fator\n",
        "# 2. Proporção da variância explicada por cada fator\n",
        "# 3. Proporção acumulada da variância explicada\n",
        "explained_variance_per_factor, proportion_explained_per_factor, cumulative_proportion_explained = fa.get_factor_variance()\n",
        "\n",
        "print(\"\\n--- Variação Explicada pelos Fatores ---\")\n",
        "print(\"Variância Explicada por Fator:\")\n",
        "for i, var in enumerate(explained_variance_per_factor):\n",
        "    print(f\"  Fator {i+1}: {var:.4f}\")\n",
        "\n",
        "print(\"\\nProporção da Variância Explicada por Fator:\")\n",
        "for i, prop in enumerate(proportion_explained_per_factor):\n",
        "    print(f\"  Fator {i+1}: {prop:.4f}\")\n",
        "\n",
        "print(\"\\nProporção Acumulada da Variância Explicada:\")\n",
        "for i, cum_prop in enumerate(cumulative_proportion_explained):\n",
        "    print(f\"  Fator {i+1}: {cum_prop:.4f}\")\n",
        "\n",
        "# Exemplo de como acessar a variância total explicada pelos 2 fatores\n",
        "print(f\"\\nTotal da Variância Explicada pelos 2 Fatores: {cumulative_proportion_explained[-1]:.4f}\")\n"
      ],
      "metadata": {
        "colab": {
          "base_uri": "https://localhost:8080/"
        },
        "id": "b0wSTi5gyP1c",
        "outputId": "a364e69a-e298-4453-f59b-c8391c1eb295"
      },
      "execution_count": 10,
      "outputs": [
        {
          "output_type": "stream",
          "name": "stdout",
          "text": [
            "Comunalidades (Proporção da Variância Explicada por Fatores Comuns):\n",
            "  avaliacao_conforto_onibus: 0.8408\n",
            "  avaliacao_limpeza_onibus: 0.7751\n",
            "  disponibilidade_wifi: 0.7276\n",
            "  valor_medio_passagem: 0.8747\n",
            "  avaliacao_pontualidade: 0.6499\n",
            "  avaliacao_atendimento_motorista: 0.6293\n",
            "  tempo_espera_embarque_min: 0.8637\n",
            "  frequencia_viagens_mes: 0.7408\n",
            "  distancia_media_viagem_km: 0.8574\n",
            "\n",
            "--- Variação Explicada pelos Fatores ---\n",
            "Variância Explicada por Fator:\n",
            "  Fator 1: 3.7914\n",
            "  Fator 2: 3.1680\n",
            "\n",
            "Proporção da Variância Explicada por Fator:\n",
            "  Fator 1: 0.4213\n",
            "  Fator 2: 0.3520\n",
            "\n",
            "Proporção Acumulada da Variância Explicada:\n",
            "  Fator 1: 0.4213\n",
            "  Fator 2: 0.7733\n",
            "\n",
            "Total da Variância Explicada pelos 2 Fatores: 0.7733\n"
          ]
        },
        {
          "output_type": "stream",
          "name": "stderr",
          "text": [
            "/usr/local/lib/python3.11/dist-packages/sklearn/utils/deprecation.py:151: FutureWarning: 'force_all_finite' was renamed to 'ensure_all_finite' in 1.6 and will be removed in 1.8.\n",
            "  warnings.warn(\n"
          ]
        }
      ]
    },
    {
      "cell_type": "markdown",
      "source": [
        "Neste bloco, aprofundamos a avaliação da qualidade do nosso modelo de Análise Fatorial, examinando as **comunalidades** e a **variação explicada** pelos fatores. Essas métricas são essenciais para entender o quão bem os fatores latentes extraídos representam a variância das variáveis observáveis.\n",
        "\n",
        "As **comunalidades** nos informam a proporção da variância de cada variável individual que é explicada pelos fatores comuns. Valores altos de comunalidade (próximos de 1) são desejáveis, pois indicam que a variável está bem representada pela estrutura fatorial. Em nosso modelo, as comunalidades para todas as variáveis foram consistentemente altas, o que reforça a ideia de que as variáveis observáveis são bem explicadas pelos dois fatores latentes identificados.\n",
        "\n",
        "A análise da **variação explicada** nos forneceu uma visão global da capacidade preditiva do modelo. Observamos a proporção da variância total que cada fator contribui individualmente e, mais importante, a **proporção acumulada da variância explicada** pelos dois fatores em conjunto. Os resultados mostraram que os dois fatores latentes são capazes de explicar uma **alta porcentagem da variância total** dos dados (aproximadamente 77%).\n",
        "\n",
        "Essa alta proporção acumulada da variância explicada é um indicativo forte da **qualidade e eficiência** do nosso modelo de Análise Fatorial. Significa que conseguimos reduzir a dimensionalidade do nosso conjunto de dados de 9 variáveis originais para apenas 2 fatores, sem perder uma quantidade significativa de informação. Os dois fatores identificados são, portanto, representações concisas e poderosas das dimensões subjacentes que influenciam o comportamento e a satisfação dos passageiros no transporte rodoviário. Com essa validação, o modelo está pronto para ser utilizado para insights e, potencialmente, para a criação de scores fatoriais.\n"
      ],
      "metadata": {
        "id": "--HC5EKU2I88"
      }
    },
    {
      "cell_type": "markdown",
      "source": [
        "## **Bloco 8: Cálculo e Análise dos Scores Fatoriais**"
      ],
      "metadata": {
        "id": "zxc17uud2pQJ"
      }
    },
    {
      "cell_type": "markdown",
      "source": [
        "Após identificar e interpretar os fatores latentes, o próximo passo prático na Análise Fatorial é calcular os scores fatoriais (também conhecidos como pontuações fatoriais) para cada observação (neste caso, cada passageiro) no nosso dataset.\n",
        "\n",
        "**O que são Scores Fatoriais?**\n",
        "\n",
        "Os scores fatoriais são valores que representam a pontuação de cada indivíduo em cada um dos fatores latentes extraídos. Essencialmente, eles transformam as variáveis observáveis originais em um novo conjunto de variáveis (os fatores), permitindo que cada passageiro receba uma \"nota\" em cada dimensão latente identificada (por exemplo, uma nota para \"Qualidade e Conforto da Viagem\" e outra para \"Eficiência e Frequência do Serviço\").\n",
        "\n",
        "**Utilidade dos Scores Fatoriais:**\n",
        "\n",
        "- **Segmentação de Clientes**: Podem ser usados para agrupar passageiros com perfis semelhantes em relação aos fatores latentes.\n",
        "\n",
        "- **Análise Adicional**: Podem servir como novas variáveis em outras análises estatísticas ou modelos de Machine Learning (por exemplo, para prever a lealdade do cliente ou o gasto futuro).\n",
        "\n",
        "- **Visualização**: Permitem visualizar a posição de cada passageiro no espaço dos fatores, revelando padrões e clusters."
      ],
      "metadata": {
        "id": "k95wayn32s9A"
      }
    },
    {
      "cell_type": "code",
      "source": [
        "# Cria uma instância do FactorAnalyzer com o número de fatores determinado (2)\n",
        "# e a rotação 'varimax'. É importante usar a mesma configuração dos blocos anteriores.\n",
        "fa = FactorAnalyzer(n_factors=2, rotation=\"varimax\")\n",
        "\n",
        "# Ajusta o modelo aos dados. Este passo é necessário antes de transformar os dados.\n",
        "fa.fit(df_passageiros)\n",
        "\n",
        "# Calcula os scores fatoriais para cada observação\n",
        "factor_scores = fa.transform(df_passageiros)\n",
        "\n",
        "# Converte os scores fatoriais para um DataFrame para melhor visualização e manipulação\n",
        "# Daremos nomes significativos às colunas com base na nossa interpretação dos fatores\n",
        "# Lembre-se que a ordem dos fatores pode variar, então confirme qual fator corresponde a qual interpretação\n",
        "# Fator 1 (do output) = Eficiência e Frequência do Serviço\n",
        "# Fator 2 (do output) = Qualidade e Conforto da Viagem\n",
        "\n",
        "# Verifique novamente as cargas fatoriais para confirmar a correspondência:\n",
        "# loadings_df = pd.DataFrame(fa.loadings_,\n",
        "#                            columns=[f'Fator {i+1}' for i in range(fa.n_factors)],\n",
        "#                            index=df_passageiros.columns)\n",
        "# print(loadings_df.round(3))\n",
        "# Com base na sua interpretação anterior:\n",
        "# Fator 1 (do output) foi o que você chamou de \"Qualidade\" (pontualidade, atendimento, frequência)\n",
        "# Fator 2 (do output) foi o que você chamou de \"Conforto\" (conforto, limpeza, wifi, valor)\n",
        "\n",
        "# Vamos usar os nomes que você atribuiu para os fatores no Bloco 6\n",
        "factor_scores_df = pd.DataFrame(factor_scores, columns=['Fator_Eficiencia_Frequencia', 'Fator_Qualidade_Conforto'])\n",
        "\n",
        "print(\"Primeiras 5 linhas dos Scores Fatoriais:\")\n",
        "print(factor_scores_df.head())\n",
        "\n",
        "# Adicionar os scores fatoriais ao DataFrame original para análises futuras\n",
        "df_passageiros_com_scores = pd.concat([df_passageiros, factor_scores_df], axis=1)\n",
        "\n",
        "print(\"\\nPrimeiras 5 linhas do DataFrame original com Scores Fatoriais:\")\n",
        "print(df_passageiros_com_scores.head())\n",
        "\n",
        "# Análise descritiva dos scores fatoriais\n",
        "print(\"\\nEstatísticas Descritivas dos Scores Fatoriais:\")\n",
        "print(factor_scores_df.describe())\n",
        "\n",
        "# Visualização da distribuição dos scores fatoriais\n",
        "plt.figure(figsize=(12, 5))\n",
        "\n",
        "plt.subplot(1, 2, 1)\n",
        "plt.hist(factor_scores_df['Fator_Eficiencia_Frequencia'], bins=30, edgecolor='black')\n",
        "plt.title('Distribuição do Fator: Eficiência e Frequência')\n",
        "plt.xlabel('Score do Fator')\n",
        "plt.ylabel('Frequência')\n",
        "plt.grid(axis='y', alpha=0.75)\n",
        "\n",
        "plt.subplot(1, 2, 2)\n",
        "plt.hist(factor_scores_df['Fator_Qualidade_Conforto'], bins=30, edgecolor='black')\n",
        "plt.title('Distribuição do Fator: Qualidade e Conforto')\n",
        "plt.xlabel('Score do Fator')\n",
        "plt.ylabel('Frequência')\n",
        "plt.grid(axis='y', alpha=0.75)\n",
        "\n",
        "plt.tight_layout()\n",
        "plt.show()\n"
      ],
      "metadata": {
        "colab": {
          "base_uri": "https://localhost:8080/",
          "height": 1000
        },
        "id": "znpPqJ7j0yfq",
        "outputId": "931d68af-61b6-4d00-f811-2de4b384cbbe"
      },
      "execution_count": 12,
      "outputs": [
        {
          "output_type": "stream",
          "name": "stderr",
          "text": [
            "/usr/local/lib/python3.11/dist-packages/sklearn/utils/deprecation.py:151: FutureWarning: 'force_all_finite' was renamed to 'ensure_all_finite' in 1.6 and will be removed in 1.8.\n",
            "  warnings.warn(\n",
            "/usr/local/lib/python3.11/dist-packages/sklearn/utils/deprecation.py:151: FutureWarning: 'force_all_finite' was renamed to 'ensure_all_finite' in 1.6 and will be removed in 1.8.\n",
            "  warnings.warn(\n"
          ]
        },
        {
          "output_type": "stream",
          "name": "stdout",
          "text": [
            "Primeiras 5 linhas dos Scores Fatoriais:\n",
            "   Fator_Eficiencia_Frequencia  Fator_Qualidade_Conforto\n",
            "0                     0.710270                  0.753261\n",
            "1                     1.601129                  0.148591\n",
            "2                    -1.893927                  0.293527\n",
            "3                     0.432729                  1.524070\n",
            "4                    -0.370415                 -0.607506\n",
            "\n",
            "Primeiras 5 linhas do DataFrame original com Scores Fatoriais:\n",
            "   avaliacao_conforto_onibus  avaliacao_limpeza_onibus  disponibilidade_wifi  \\\n",
            "0                          4                         4                     3   \n",
            "1                          3                         3                     2   \n",
            "2                          4                         4                     3   \n",
            "3                          5                         5                     4   \n",
            "4                          3                         3                     1   \n",
            "\n",
            "   valor_medio_passagem  avaliacao_pontualidade  \\\n",
            "0                 121.0                       4   \n",
            "1                 106.0                       5   \n",
            "2                 116.0                       2   \n",
            "3                 140.0                       5   \n",
            "4                  82.0                       4   \n",
            "\n",
            "   avaliacao_atendimento_motorista  tempo_espera_embarque_min  \\\n",
            "0                                5                          9   \n",
            "1                                5                          5   \n",
            "2                                2                         22   \n",
            "3                                4                         13   \n",
            "4                                3                         16   \n",
            "\n",
            "   frequencia_viagens_mes  distancia_media_viagem_km  \\\n",
            "0                       2                      238.0   \n",
            "1                       3                      286.0   \n",
            "2                       0                       94.0   \n",
            "3                       3                      222.0   \n",
            "4                       1                      182.0   \n",
            "\n",
            "   Fator_Eficiencia_Frequencia  Fator_Qualidade_Conforto  \n",
            "0                     0.710270                  0.753261  \n",
            "1                     1.601129                  0.148591  \n",
            "2                    -1.893927                  0.293527  \n",
            "3                     0.432729                  1.524070  \n",
            "4                    -0.370415                 -0.607506  \n",
            "\n",
            "Estatísticas Descritivas dos Scores Fatoriais:\n",
            "       Fator_Eficiencia_Frequencia  Fator_Qualidade_Conforto\n",
            "count                 5.000000e+02              5.000000e+02\n",
            "mean                  4.973799e-17              1.527667e-16\n",
            "std                   9.755128e-01              9.746224e-01\n",
            "min                  -2.851135e+00             -1.977996e+00\n",
            "25%                  -6.260182e-01             -7.315656e-01\n",
            "50%                   2.445599e-02              5.267236e-03\n",
            "75%                   6.764611e-01              7.498458e-01\n",
            "max                   2.422339e+00              3.033713e+00\n"
          ]
        },
        {
          "output_type": "display_data",
          "data": {
            "text/plain": [
              "<Figure size 1200x500 with 2 Axes>"
            ],
            "image/png": "[encoded data removed]"
          },
          "metadata": {}
        }
      ]
    },
    {
      "cell_type": "markdown",
      "source": [
        "Neste bloco final de análise, calculamos os **scores fatoriais** para cada passageiro em nosso dataset. Os scores fatoriais são pontuações individuais que cada observação (passageiro) recebe em cada um dos fatores latentes identificados. Eles representam a posição de cada passageiro nas dimensões de \"Eficiência e Frequência do Serviço\" e \"Qualidade e Conforto da Viagem\", transformando as variáveis observáveis originais em um conjunto mais conciso e significativo de novas variáveis.\n",
        "\n",
        "A utilidade dos scores fatoriais é imensa para aplicações de negócio:\n",
        "*   **Segmentação de Clientes**: Permitem agrupar passageiros com perfis semelhantes. Por exemplo, podemos identificar um segmento de \"Passageiros Premium\" (altos scores em Qualidade e Conforto) ou \"Viajantes Frequentes e Eficientes\" (altos scores em Eficiência e Frequência).\n",
        "*   **Marketing e Ofertas Personalizadas**: Com base nos scores, as empresas podem desenvolver campanhas de marketing direcionadas e ofertas de serviços personalizadas para atender às necessidades específicas de cada segmento de passageiros.\n",
        "*   **Input para Modelos Preditivos**: Os scores fatoriais podem ser utilizados como variáveis de entrada em outros modelos de Machine Learning (ex: prever lealdade, churn ou valor de vida útil do cliente), fornecendo uma representação mais robusta e menos ruidosa dos dados.\n",
        "*   **Visualização e Insights**: A distribuição dos scores fatoriais, como observado nos histogramas, geralmente segue uma forma de \"sino\" (distribuição normal), indicando que a maioria dos passageiros se concentra em um nível médio para cada fator, com variações para os extremos. Isso nos ajuda a entender a diversidade da base de clientes em relação a essas dimensões cruciais.\n",
        "\n",
        "Ao calcular e analisar os scores fatoriais, concluímos a fase de modelagem da Análise Fatorial. Temos agora uma compreensão clara dos fatores latentes que influenciam as decisões de compra e satisfação dos passageiros, e ferramentas quantitativas (os scores) para aplicar esses insights em estratégias de negócio.\n"
      ],
      "metadata": {
        "id": "52xj197T4cqS"
      }
    },
    {
      "cell_type": "code",
      "source": [],
      "metadata": {
        "id": "fEw_fhYL3Ap5"
      },
      "execution_count": null,
      "outputs": []
    },
    {
      "cell_type": "markdown",
      "source": [
        "### Conclusão Geral do Projeto: Análise Fatorial em Transporte Rodoviário de Passageiros\n",
        "\n",
        "Este projeto demonstrou a aplicação prática da **Análise Fatorial** para desvendar fatores latentes que influenciam a experiência e o comportamento de passageiros no setor de transporte rodoviário. Partindo de uma **definição clara do problema de negócio** – a necessidade de compreender as dimensões subjacentes da satisfação do cliente para otimizar serviços e estratégias – construímos um pipeline analítico robusto e bem documentado.\n",
        "\n",
        "A metodologia adotada incluiu a **geração de dados sintéticos**, uma escolha estratégica que nos permitiu controlar a estrutura subjacente e validar a capacidade da Análise Fatorial em \"redescobrir\" os padrões intencionalmente inseridos. A **reprodutibilidade** do trabalho foi garantida através do uso de `random.seed()` e `np.random.seed()`, uma prática essencial para a ciência de dados profissional.\n",
        "\n",
        "Antes da extração dos fatores, a **adequação dos dados** foi rigorosamente avaliada. O **Teste de Esfericidade de Bartlett** confirmou a existência de correlações significativas entre as variáveis, enquanto o **Teste de Kaiser-Meyer-Olkin (KMO)** indicou uma excelente adequação geral e individual das variáveis para a análise fatorial. A determinação do número ideal de fatores foi guiada pela análise dos **autovalores** e do **Gráfico de Cotovelo (Scree Plot)**, que consistentemente apontaram para a extração de **dois fatores** principais.\n",
        "\n",
        "A **Análise Fatorial** propriamente dita, utilizando a rotação **Varimax** para otimizar a interpretabilidade, revelou dois fatores latentes distintos e significativos:\n",
        "\n",
        "1.  **Fator 1: Eficiência e Frequência do Serviço**: Agrupando variáveis como `frequencia_viagens_mes`, `distancia_media_viagem_km`, `avaliacao_pontualidade` e `avaliacao_atendimento_motorista`. Este fator representa a percepção do passageiro sobre a agilidade, confiabilidade e qualidade operacional do serviço.\n",
        "2.  **Fator 2: Qualidade e Conforto da Viagem**: Com altas cargas em `valor_medio_passagem`, `avaliacao_conforto_onibus`, `avaliacao_limpeza_onibus` e `disponibilidade_wifi`. Este fator reflete a experiência física e as comodidades oferecidas durante a viagem.\n",
        "\n",
        "A alta **proporção acumulada da variância explicada** pelos dois fatores (aproximadamente 77%) valida a eficácia do modelo em capturar a maior parte da informação contida nas variáveis originais com uma dimensionalidade significativamente reduzida. Finalmente, o cálculo dos **scores fatoriais** para cada passageiro fornece uma ferramenta quantitativa poderosa. Esses scores podem ser utilizados para:\n",
        "\n",
        "*   **Segmentação de clientes**: Identificar grupos de passageiros com perfis distintos de preferência (ex: passageiros que valorizam mais a eficiência vs. os que priorizam o conforto).\n",
        "*   **Personalização de estratégias**: Desenvolver campanhas de marketing e melhorias de serviço direcionadas a cada segmento.\n",
        "*   **Análises preditivas**: Servir como variáveis de entrada em modelos mais complexos para prever comportamentos futuros dos passageiros.\n",
        "\n",
        "Em suma, este projeto não apenas demonstrou a aplicação técnica da Análise Fatorial, mas também ilustrou como essa ferramenta pode gerar **insights acionáveis** para o negócio de transporte rodoviário de passageiros."
      ],
      "metadata": {
        "id": "-AfONeEV4nQy"
      }
    }
  ]
}